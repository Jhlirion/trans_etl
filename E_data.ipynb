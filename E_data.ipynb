{
 "cells": [
  {
   "cell_type": "code",
   "execution_count": 1,
   "metadata": {},
   "outputs": [],
   "source": [
    "import pandas as pd\n",
    "import requests \n",
    "import csv\n",
    "import os\n",
    "from datetime import date\n",
    "from bs4 import BeautifulSoup"
   ]
  },
  {
   "cell_type": "code",
   "execution_count": null,
   "metadata": {},
   "outputs": [],
   "source": [
    "# Con esto podemos listar los links de descraga de una pagina\n",
    "page = requests.get('https://datos.cultura.gob.ar/dataset/37305de4-3cce-4d4b-9d9a-fec3ca61d09f')\n",
    "bsoup = BeautifulSoup(page.content, 'html.parser')\n",
    "link_list = bsoup.find_all('a')\n",
    "#ver links de descargas de una página\n",
    "for link in link_list:\n",
    "    if 'href' in link.attrs:\n",
    "        print(str(link.attrs['href']) + '\\n')"
   ]
  },
  {
   "cell_type": "code",
   "execution_count": 2,
   "metadata": {},
   "outputs": [],
   "source": [
    "#declaramos la web de donde extraeremos los datos\n",
    "web_cine = 'https://datos.cultura.gob.ar/dataset/espacios-culturales-argentina-sinca/archivo/f7a8edb8-9208-41b0-8f19-d72811dcea97'\n",
    "web_museo = 'https://datos.cultura.gob.ar/dataset/37305de4-3cce-4d4b-9d9a-fec3ca61d09f/resource/4207def0-2ff7-41d5-9095-d42ae8207a5d'\n",
    "web_bibli = 'https://datos.cultura.gob.ar/dataset/37305de4-3cce-4d4b-9d9a-fec3ca61d09f/resource/01c6c048-dbeb-44e0-8efa-6944f73715d7'\n",
    "\n",
    "#listamos las webs\n",
    "lis_web = [web_cine, web_museo, web_bibli]\n",
    "datos = ['cines', 'museos', 'bibliotecas']"
   ]
  },
  {
   "cell_type": "code",
   "execution_count": 3,
   "metadata": {},
   "outputs": [
    {
     "name": "stdout",
     "output_type": "stream",
     "text": [
      "https://datos.cultura.gob.ar/dataset/37305de4-3cce-4d4b-9d9a-fec3ca61d09f/resource/f7a8edb8-9208-41b0-8f19-d72811dcea97/download/salas_cine.csv\n",
      "https://datos.cultura.gob.ar/dataset/37305de4-3cce-4d4b-9d9a-fec3ca61d09f/resource/4207def0-2ff7-41d5-9095-d42ae8207a5d/download/museos_datosabiertos.csv\n",
      "https://datos.cultura.gob.ar/dataset/37305de4-3cce-4d4b-9d9a-fec3ca61d09f/resource/01c6c048-dbeb-44e0-8efa-6944f73715d7/download/biblioteca_popular.csv\n"
     ]
    }
   ],
   "source": [
    "for i in range(0,3):\n",
    "    result = requests.get(lis_web[i])\n",
    "    content = result.text\n",
    "    soup = BeautifulSoup(content, 'lxml')\n",
    "    box = soup.find(class_='btn btn-green btn-block')\n",
    "    link = box.get('href')\n",
    "    # Descargamos datos\n",
    "    data=requests.get(link)\n",
    "    # Convertimos todo a csv\n",
    "    data_cv = csv.reader(data.content.decode('utf-8').splitlines(),delimiter=',')\n",
    "    # Convertimos en dataframes de pandas, para poder manejarlos mejor\n",
    "    df = pd.DataFrame(data_cv)\n",
    "    # Colocamos como nombre de columna la primera fila y borramos el duplicado\n",
    "    df=df.set_axis(df.iloc[0], axis = 1)\n",
    "    df=df.drop(0 , axis = 0)\n",
    "    # Declaramos una variable para iterar la fecha de hoy\n",
    "    today = date.today()\n",
    "    # Creamos las carpetas y colocamos los archivos en los mismos convirtiendo a csv\n",
    "    os.makedirs(\n",
    "    \"data/{i}/{anio}-{mes}\".format(\n",
    "        i = datos[i] , anio = today.strftime(\"%Y\"), mes = today.strftime(\"%B\")\n",
    "        ),\n",
    "        exist_ok=True\n",
    "        )\n",
    "    df.to_csv(\n",
    "        \"data/{i}/{anio}-{mes}/{i}-{nombre}.csv\".format(\n",
    "        i = datos[i] , anio = today.strftime(\"%Y\"), mes = today.strftime(\"%B\") , nombre = today.strftime(\"%d-%m-%Y\")\n",
    "        ), index = False\n",
    "        )\n",
    "    \n",
    "    print(link)\n",
    "    "
   ]
  }
 ],
 "metadata": {
  "kernelspec": {
   "display_name": "Python 3.10.7 64-bit",
   "language": "python",
   "name": "python3"
  },
  "language_info": {
   "codemirror_mode": {
    "name": "ipython",
    "version": 3
   },
   "file_extension": ".py",
   "mimetype": "text/x-python",
   "name": "python",
   "nbconvert_exporter": "python",
   "pygments_lexer": "ipython3",
   "version": "3.10.7"
  },
  "orig_nbformat": 4,
  "vscode": {
   "interpreter": {
    "hash": "a42ccb73e7d9bfdf27e036f1d2b8b681e55fc0743cc5586bc2474d4a60f4b886"
   }
  }
 },
 "nbformat": 4,
 "nbformat_minor": 2
}
