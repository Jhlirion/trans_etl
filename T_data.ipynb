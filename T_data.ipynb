{
 "cells": [
  {
   "cell_type": "code",
   "execution_count": 1,
   "metadata": {},
   "outputs": [],
   "source": [
    "import psycopg2\n",
    "import numpy as np\n",
    "import psycopg2.extras as extras\n",
    "import pandas as pd\n",
    "from datetime import date"
   ]
  },
  {
   "cell_type": "code",
   "execution_count": 11,
   "metadata": {},
   "outputs": [],
   "source": [
    "df_bibli = pd.read_csv(r'data\\bibliotecas\\2022-October\\bibliotecas-12-10-2022.csv')\n",
    "df_cines = pd.read_csv(r'data\\cines\\2022-October\\cines-12-10-2022.csv')\n",
    "df_museos = pd.read_csv(r'data\\museos\\2022-October\\museos-12-10-2022.csv')"
   ]
  },
  {
   "cell_type": "code",
   "execution_count": 12,
   "metadata": {},
   "outputs": [],
   "source": [
    "colum_nor = ['cod_localidad', 'id_provincia', 'id_departamento', 'categoria',\n",
    "            'provincia','localidad','nombre','domicilio','codi_postal','nume_de_telefono','mail','web']"
   ]
  },
  {
   "cell_type": "code",
   "execution_count": 4,
   "metadata": {},
   "outputs": [
    {
     "data": {
      "text/plain": [
       "Index(['Cod_Loc', 'IdProvincia', 'IdDepartamento', 'Observacion', 'Categoría',\n",
       "       'Subcategoria', 'Provincia', 'Departamento', 'Localidad', 'Nombre',\n",
       "       'Domicilio', 'Piso', 'CP', 'Cod_tel', 'Teléfono', 'Mail', 'Web',\n",
       "       'Información adicional', 'Latitud', 'Longitud', 'TipoLatitudLongitud',\n",
       "       'Fuente', 'Tipo_gestion', 'año_inicio', 'Año_actualizacion'],\n",
       "      dtype='object')"
      ]
     },
     "execution_count": 4,
     "metadata": {},
     "output_type": "execute_result"
    }
   ],
   "source": [
    "df_bibli.columns"
   ]
  },
  {
   "cell_type": "code",
   "execution_count": 13,
   "metadata": {},
   "outputs": [],
   "source": [
    "df_bibli.rename(columns={'Cod_Loc':'cod_localidad', 'IdProvincia':'id_provincia', 'IdDepartamento':'id_departamento', 'Categoría':'categoria', \n",
    "                          'Provincia':'provincia', 'Localidad':'localidad', 'Nombre':'nombre', 'Domicilio':'domicilio', 'CP':'codi_postal', \n",
    "                          'Teléfono':'nume_de_telefono', 'Mail':'mail', 'Web':'web'}, inplace=True)"
   ]
  },
  {
   "cell_type": "code",
   "execution_count": 36,
   "metadata": {},
   "outputs": [],
   "source": [
    "df_bibli_final = df_bibli[['cod_localidad', 'id_provincia', 'id_departamento', 'categoria',\n",
    "            'provincia','localidad','nombre','domicilio','codi_postal','nume_de_telefono','mail','web']].copy()"
   ]
  },
  {
   "cell_type": "code",
   "execution_count": 18,
   "metadata": {},
   "outputs": [
    {
     "data": {
      "text/plain": [
       "Index(['cod_localidad', 'id_provincia', 'id_departamento', 'categoria',\n",
       "       'provincia', 'departamento', 'localidad', 'nombre', 'direccion', 'piso',\n",
       "       'cp', 'web', 'latitud', 'longitud', 'tipo_latitud_longitud', 'fuente',\n",
       "       'sector', 'pantallas', 'butacas', 'tipo_de_gestion', 'espacio_incaa',\n",
       "       'año_actualizacion'],\n",
       "      dtype='object')"
      ]
     },
     "execution_count": 18,
     "metadata": {},
     "output_type": "execute_result"
    }
   ],
   "source": [
    "df_cines.columns"
   ]
  },
  {
   "cell_type": "code",
   "execution_count": 21,
   "metadata": {},
   "outputs": [],
   "source": [
    "df_cines.rename(columns={'direccion':'domicilio', 'cp':'codi_postal'}, inplace=True)"
   ]
  },
  {
   "cell_type": "code",
   "execution_count": 23,
   "metadata": {},
   "outputs": [],
   "source": [
    "df_cines_final = df_cines[['cod_localidad', 'id_provincia', 'id_departamento', 'categoria',\n",
    "            'provincia','localidad','nombre','domicilio','codi_postal','web']].copy()"
   ]
  },
  {
   "cell_type": "code",
   "execution_count": 43,
   "metadata": {},
   "outputs": [],
   "source": [
    "df_cines_final[['nume_de_telefono','mail']] = 0, 0"
   ]
  },
  {
   "cell_type": "code",
   "execution_count": 27,
   "metadata": {},
   "outputs": [
    {
     "data": {
      "text/plain": [
       "Index(['Cod_Loc', 'IdProvincia', 'IdDepartamento', 'Observaciones',\n",
       "       'categoria', 'subcategoria', 'provincia', 'localidad', 'nombre',\n",
       "       'direccion', 'piso', 'CP', 'cod_area', 'telefono', 'Mail', 'Web',\n",
       "       'Latitud', 'Longitud', 'TipoLatitudLongitud', 'Info_adicional',\n",
       "       'fuente', 'jurisdiccion', 'año_inauguracion', 'actualizacion'],\n",
       "      dtype='object')"
      ]
     },
     "execution_count": 27,
     "metadata": {},
     "output_type": "execute_result"
    }
   ],
   "source": [
    "df_museos.columns"
   ]
  },
  {
   "cell_type": "code",
   "execution_count": 28,
   "metadata": {},
   "outputs": [],
   "source": [
    "df_museos.rename(columns={'Cod_Loc':'cod_localidad', 'IdProvincia':'id_provincia', 'IdDepartamento':'id_departamento', 'direccion':'domicilio', 'CP':'codi_postal', \n",
    "                          'telefono':'nume_de_telefono', 'Mail':'mail', 'Web':'web'}, inplace=True)"
   ]
  },
  {
   "cell_type": "code",
   "execution_count": 33,
   "metadata": {},
   "outputs": [],
   "source": [
    "df_museos_final = df_museos[['cod_localidad', 'id_provincia', 'id_departamento', 'categoria',\n",
    "            'provincia','localidad','nombre','domicilio','codi_postal','nume_de_telefono','mail','web']].copy()"
   ]
  },
  {
   "cell_type": "code",
   "execution_count": 48,
   "metadata": {},
   "outputs": [],
   "source": [
    "df_principal=pd.concat([df_bibli_final, df_museos_final, df_cines_final] , join=\"inner\" , ignore_index=True)"
   ]
  },
  {
   "cell_type": "code",
   "execution_count": 54,
   "metadata": {},
   "outputs": [
    {
     "data": {
      "text/plain": [
       "Index(['cod_localidad', 'id_provincia', 'id_departamento', 'categoria',\n",
       "       'provincia', 'departamento', 'localidad', 'nombre', 'domicilio', 'piso',\n",
       "       'codi_postal', 'web', 'latitud', 'longitud', 'tipo_latitud_longitud',\n",
       "       'fuente', 'sector', 'pantallas', 'butacas', 'tipo_de_gestion',\n",
       "       'espacio_incaa', 'año_actualizacion'],\n",
       "      dtype='object')"
      ]
     },
     "execution_count": 54,
     "metadata": {},
     "output_type": "execute_result"
    }
   ],
   "source": [
    "df_cines.columns"
   ]
  },
  {
   "cell_type": "code",
   "execution_count": 55,
   "metadata": {},
   "outputs": [],
   "source": [
    "df_cine_principal=df_cines[[\"provincia\",\"pantallas\",\"butacas\",\"espacio_incaa\"]]\n",
    "df_cine_principal=df_cine_principal.rename(columns={\"pantallas\":\"cant_pantallas\",\"butacas\":\"cant_butacas\",\"espacio_incaa\":\"cant_espacio_incaa\"})"
   ]
  },
  {
   "cell_type": "code",
   "execution_count": 56,
   "metadata": {},
   "outputs": [
    {
     "data": {
      "text/html": [
       "<div>\n",
       "<style scoped>\n",
       "    .dataframe tbody tr th:only-of-type {\n",
       "        vertical-align: middle;\n",
       "    }\n",
       "\n",
       "    .dataframe tbody tr th {\n",
       "        vertical-align: top;\n",
       "    }\n",
       "\n",
       "    .dataframe thead th {\n",
       "        text-align: right;\n",
       "    }\n",
       "</style>\n",
       "<table border=\"1\" class=\"dataframe\">\n",
       "  <thead>\n",
       "    <tr style=\"text-align: right;\">\n",
       "      <th></th>\n",
       "      <th>provincia</th>\n",
       "      <th>cant_pantallas</th>\n",
       "      <th>cant_butacas</th>\n",
       "      <th>cant_espacio_incaa</th>\n",
       "    </tr>\n",
       "  </thead>\n",
       "  <tbody>\n",
       "    <tr>\n",
       "      <th>0</th>\n",
       "      <td>Buenos Aires</td>\n",
       "      <td>1</td>\n",
       "      <td>500</td>\n",
       "      <td>No</td>\n",
       "    </tr>\n",
       "    <tr>\n",
       "      <th>1</th>\n",
       "      <td>Buenos Aires</td>\n",
       "      <td>1</td>\n",
       "      <td>410</td>\n",
       "      <td>No</td>\n",
       "    </tr>\n",
       "    <tr>\n",
       "      <th>2</th>\n",
       "      <td>Buenos Aires</td>\n",
       "      <td>1</td>\n",
       "      <td>165</td>\n",
       "      <td>No</td>\n",
       "    </tr>\n",
       "    <tr>\n",
       "      <th>3</th>\n",
       "      <td>Buenos Aires</td>\n",
       "      <td>10</td>\n",
       "      <td>2505</td>\n",
       "      <td>No</td>\n",
       "    </tr>\n",
       "    <tr>\n",
       "      <th>4</th>\n",
       "      <td>Buenos Aires</td>\n",
       "      <td>4</td>\n",
       "      <td>710</td>\n",
       "      <td>No</td>\n",
       "    </tr>\n",
       "    <tr>\n",
       "      <th>...</th>\n",
       "      <td>...</td>\n",
       "      <td>...</td>\n",
       "      <td>...</td>\n",
       "      <td>...</td>\n",
       "    </tr>\n",
       "    <tr>\n",
       "      <th>311</th>\n",
       "      <td>Tucumán</td>\n",
       "      <td>5</td>\n",
       "      <td>1051</td>\n",
       "      <td>No</td>\n",
       "    </tr>\n",
       "    <tr>\n",
       "      <th>312</th>\n",
       "      <td>Tucumán</td>\n",
       "      <td>1</td>\n",
       "      <td>183</td>\n",
       "      <td>Si</td>\n",
       "    </tr>\n",
       "    <tr>\n",
       "      <th>313</th>\n",
       "      <td>Tucumán</td>\n",
       "      <td>1</td>\n",
       "      <td>36</td>\n",
       "      <td>No</td>\n",
       "    </tr>\n",
       "    <tr>\n",
       "      <th>314</th>\n",
       "      <td>Tucumán</td>\n",
       "      <td>5</td>\n",
       "      <td>750</td>\n",
       "      <td>No</td>\n",
       "    </tr>\n",
       "    <tr>\n",
       "      <th>315</th>\n",
       "      <td>Tucumán</td>\n",
       "      <td>6</td>\n",
       "      <td>1295</td>\n",
       "      <td>No</td>\n",
       "    </tr>\n",
       "  </tbody>\n",
       "</table>\n",
       "<p>316 rows × 4 columns</p>\n",
       "</div>"
      ],
      "text/plain": [
       "        provincia  cant_pantallas  cant_butacas cant_espacio_incaa\n",
       "0    Buenos Aires               1           500                 No\n",
       "1    Buenos Aires               1           410                 No\n",
       "2    Buenos Aires               1           165                 No\n",
       "3    Buenos Aires              10          2505                 No\n",
       "4    Buenos Aires               4           710                 No\n",
       "..            ...             ...           ...                ...\n",
       "311       Tucumán               5          1051                 No\n",
       "312       Tucumán               1           183                 Si\n",
       "313       Tucumán               1            36                 No\n",
       "314       Tucumán               5           750                 No\n",
       "315       Tucumán               6          1295                 No\n",
       "\n",
       "[316 rows x 4 columns]"
      ]
     },
     "execution_count": 56,
     "metadata": {},
     "output_type": "execute_result"
    }
   ],
   "source": [
    "df_cine_principal"
   ]
  },
  {
   "cell_type": "code",
   "execution_count": 60,
   "metadata": {},
   "outputs": [],
   "source": [
    "today = date.today()"
   ]
  },
  {
   "cell_type": "code",
   "execution_count": 61,
   "metadata": {},
   "outputs": [],
   "source": [
    "# Ingresamos la fecha de carga \n",
    "df_cine_principal[\"upload_date\"]=today.strftime(\"%Y-%m-%d\")\n",
    "df_principal[\"upload_date\"]=today.strftime(\"%Y-%m-%d\")\n"
   ]
  },
  {
   "cell_type": "code",
   "execution_count": 9,
   "metadata": {},
   "outputs": [
    {
     "name": "stdout",
     "output_type": "stream",
     "text": [
      "Before: None\n",
      "Loop: 3 3\n",
      "Loop: 41 3\n",
      "Loop: 12 3\n",
      "Loop: 9 3\n",
      "Loop: 74 3\n",
      "Loop: 15 3\n",
      "Smallest: 3\n"
     ]
    }
   ],
   "source": [
    "smallest = None\n",
    "print(\"Before:\", smallest)\n",
    "for itervar in [3, 41, 12, 9, 74, 15]:\n",
    "    if smallest is None or itervar < smallest:\n",
    "        smallest = itervar\n",
    "        #break\n",
    "    print(\"Loop:\", itervar, smallest)\n",
    "print(\"Smallest:\", smallest)"
   ]
  },
  {
   "cell_type": "code",
   "execution_count": null,
   "metadata": {},
   "outputs": [],
   "source": [
    "from tkinter import E\n",
    "import sqlalchemy\n",
    "import psycopg2\n",
    "from sqlalchemy import create_engine\n",
    "import pandas as pd\n",
    "\n",
    "df = pd.read_csv(\"/home/dio-pc/Escritorio/trans_etl/data/bibliotecas/2022-October/bibliotecas-12-10-2022.csv\")\n",
    "\n",
    "\n",
    "try:\n",
    "    conex = create_engine(\"postgresql+psycopg2://{}:{}@{}/{}\".format(\"admin\",\"admin\",\"172.17.0.1:3333\", \"alkemy\"))\n",
    "    conexpostgres = conex.connect()\n",
    "    metadatas = sqlalchemy.MetaData()\n",
    "    df.to_sql(\"caca\", conexpostgres, if_exists=\"append\", index=False)\n",
    "    print(\"Vamo Loco\")\n",
    "except E:\n",
    "    print(E)"
   ]
  }
 ],
 "metadata": {
  "kernelspec": {
   "display_name": "Python 3.10.7 64-bit",
   "language": "python",
   "name": "python3"
  },
  "language_info": {
   "codemirror_mode": {
    "name": "ipython",
    "version": 3
   },
   "file_extension": ".py",
   "mimetype": "text/x-python",
   "name": "python",
   "nbconvert_exporter": "python",
   "pygments_lexer": "ipython3",
   "version": "3.10.7"
  },
  "orig_nbformat": 4,
  "vscode": {
   "interpreter": {
    "hash": "a42ccb73e7d9bfdf27e036f1d2b8b681e55fc0743cc5586bc2474d4a60f4b886"
   }
  }
 },
 "nbformat": 4,
 "nbformat_minor": 2
}
