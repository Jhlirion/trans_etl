{
 "cells": [
  {
   "cell_type": "code",
   "execution_count": 1,
   "metadata": {},
   "outputs": [],
   "source": [
    "import psycopg2\n",
    "import numpy as np\n",
    "import psycopg2.extras as extras\n",
    "import pandas as pd"
   ]
  },
  {
   "cell_type": "code",
   "execution_count": 12,
   "metadata": {},
   "outputs": [],
   "source": [
    "df_bibli = pd.read_csv(r'data\\bibliotecas\\2022-October\\bibliotecas-12-10-2022.csv')\n",
    "df_cines = pd.read_csv(r'data\\cines\\2022-October\\cines-12-10-2022.csv')\n",
    "df_museos = pd.read_csv(r'data\\museos\\2022-October\\museos-12-10-2022.csv')"
   ]
  },
  {
   "cell_type": "code",
   "execution_count": 17,
   "metadata": {},
   "outputs": [],
   "source": [
    "colum_nor = ['cod_localidad', 'id_provincia', 'id_departamento', 'categoría',\n",
    "            'provincia','localidad','nombre','domicilio','códi,postal','núme_de_teléfono','mail','web']"
   ]
  },
  {
   "cell_type": "code",
   "execution_count": 11,
   "metadata": {},
   "outputs": [
    {
     "data": {
      "text/plain": [
       "Index(['Cod_Loc', 'IdProvincia', 'IdDepartamento', 'Observacion', 'Categoría',\n",
       "       'Subcategoria', 'Provincia', 'Departamento', 'Localidad', 'Nombre',\n",
       "       'Domicilio', 'Piso', 'CP', 'Cod_tel', 'Teléfono', 'Mail', 'Web',\n",
       "       'Información adicional', 'Latitud', 'Longitud', 'TipoLatitudLongitud',\n",
       "       'Fuente', 'Tipo_gestion', 'año_inicio', 'Año_actualizacion'],\n",
       "      dtype='object')"
      ]
     },
     "execution_count": 11,
     "metadata": {},
     "output_type": "execute_result"
    }
   ],
   "source": [
    "df_bibli.columns"
   ]
  },
  {
   "cell_type": "code",
   "execution_count": 15,
   "metadata": {},
   "outputs": [],
   "source": [
    "df_bibli.rename(columns={'Cod_Loc':'cod_localidad', 'IdProvincia':'id_provincia', 'IdDepartamento':'id_departamento', 'Categoría':'categoría', \n",
    "                          'Provincia':'provincia', 'Localidad':'localidad', 'Nombre':'nombre', \n",
    "                          'Domicilio':'domicilio', 'CP':'códi,postal', 'Teléfono':'núme_de_teléfono', 'Mail':'mail', 'Web':'web'}, inplace=True)"
   ]
  },
  {
   "cell_type": "code",
   "execution_count": 19,
   "metadata": {},
   "outputs": [],
   "source": [
    "df_biblioteca = df_bibli[colum_nor].copy()"
   ]
  },
  {
   "cell_type": "code",
   "execution_count": 13,
   "metadata": {},
   "outputs": [
    {
     "data": {
      "text/plain": [
       "Index(['cod_localidad', 'id_provincia', 'id_departamento', 'categoria',\n",
       "       'provincia', 'departamento', 'localidad', 'nombre', 'direccion', 'piso',\n",
       "       'cp', 'web', 'latitud', 'longitud', 'tipo_latitud_longitud', 'fuente',\n",
       "       'sector', 'pantallas', 'butacas', 'tipo_de_gestion', 'espacio_incaa',\n",
       "       'año_actualizacion'],\n",
       "      dtype='object')"
      ]
     },
     "execution_count": 13,
     "metadata": {},
     "output_type": "execute_result"
    }
   ],
   "source": [
    "df_cines.columns"
   ]
  },
  {
   "cell_type": "code",
   "execution_count": 14,
   "metadata": {},
   "outputs": [
    {
     "data": {
      "text/plain": [
       "Index(['Cod_Loc', 'IdProvincia', 'IdDepartamento', 'Observaciones',\n",
       "       'categoria', 'subcategoria', 'provincia', 'localidad', 'nombre',\n",
       "       'direccion', 'piso', 'CP', 'cod_area', 'telefono', 'Mail', 'Web',\n",
       "       'Latitud', 'Longitud', 'TipoLatitudLongitud', 'Info_adicional',\n",
       "       'fuente', 'jurisdiccion', 'año_inauguracion', 'actualizacion'],\n",
       "      dtype='object')"
      ]
     },
     "execution_count": 14,
     "metadata": {},
     "output_type": "execute_result"
    }
   ],
   "source": [
    "df_museos.columns"
   ]
  },
  {
   "cell_type": "code",
   "execution_count": null,
   "metadata": {},
   "outputs": [],
   "source": []
  }
 ],
 "metadata": {
  "kernelspec": {
   "display_name": "Python 3.10.7 64-bit",
   "language": "python",
   "name": "python3"
  },
  "language_info": {
   "codemirror_mode": {
    "name": "ipython",
    "version": 3
   },
   "file_extension": ".py",
   "mimetype": "text/x-python",
   "name": "python",
   "nbconvert_exporter": "python",
   "pygments_lexer": "ipython3",
   "version": "3.10.7"
  },
  "orig_nbformat": 4,
  "vscode": {
   "interpreter": {
    "hash": "a42ccb73e7d9bfdf27e036f1d2b8b681e55fc0743cc5586bc2474d4a60f4b886"
   }
  }
 },
 "nbformat": 4,
 "nbformat_minor": 2
}
